{
 "cells": [
  {
   "cell_type": "code",
   "execution_count": 46,
   "id": "d892ecf8-acd8-4f03-85a3-c0cf390c71f9",
   "metadata": {
    "tags": []
   },
   "outputs": [],
   "source": [
    "import numpy as np\n",
    "import pandas as pd"
   ]
  },
  {
   "cell_type": "code",
   "execution_count": 47,
   "id": "792577fc-0251-4a91-a6a4-0b56496d5177",
   "metadata": {
    "tags": []
   },
   "outputs": [
    {
     "name": "stderr",
     "output_type": "stream",
     "text": [
      "/var/folders/9c/9gm285k54tz9ysvymk9gtd400000gn/T/ipykernel_69508/3613748228.py:1: DtypeWarning: Columns (25) have mixed types. Specify dtype option on import or set low_memory=False.\n",
      "  df = pd.read_csv(\"./Airbnb_Open_Data.csv\")\n"
     ]
    }
   ],
   "source": [
    "df = pd.read_csv(\"./Airbnb_Open_Data.csv\")"
   ]
  },
  {
   "cell_type": "code",
   "execution_count": 48,
   "id": "11a18c48-a614-4f5d-b933-3de42f8f4c49",
   "metadata": {
    "tags": []
   },
   "outputs": [
    {
     "name": "stdout",
     "output_type": "stream",
     "text": [
      "<class 'pandas.core.frame.DataFrame'>\n",
      "RangeIndex: 102599 entries, 0 to 102598\n",
      "Data columns (total 26 columns):\n",
      " #   Column                          Non-Null Count   Dtype  \n",
      "---  ------                          --------------   -----  \n",
      " 0   id                              102599 non-null  int64  \n",
      " 1   NAME                            102349 non-null  object \n",
      " 2   host id                         102599 non-null  int64  \n",
      " 3   host_identity_verified          102310 non-null  object \n",
      " 4   host name                       102193 non-null  object \n",
      " 5   neighbourhood group             102570 non-null  object \n",
      " 6   neighbourhood                   102583 non-null  object \n",
      " 7   lat                             102591 non-null  float64\n",
      " 8   long                            102591 non-null  float64\n",
      " 9   country                         102067 non-null  object \n",
      " 10  country code                    102468 non-null  object \n",
      " 11  instant_bookable                102494 non-null  object \n",
      " 12  cancellation_policy             102523 non-null  object \n",
      " 13  room type                       102599 non-null  object \n",
      " 14  Construction year               102385 non-null  float64\n",
      " 15  price                           102352 non-null  object \n",
      " 16  service fee                     102326 non-null  object \n",
      " 17  minimum nights                  102190 non-null  float64\n",
      " 18  number of reviews               102416 non-null  float64\n",
      " 19  last review                     86706 non-null   object \n",
      " 20  reviews per month               86720 non-null   float64\n",
      " 21  review rate number              102273 non-null  float64\n",
      " 22  calculated host listings count  102280 non-null  float64\n",
      " 23  availability 365                102151 non-null  float64\n",
      " 24  house_rules                     50468 non-null   object \n",
      " 25  license                         2 non-null       object \n",
      "dtypes: float64(9), int64(2), object(15)\n",
      "memory usage: 20.4+ MB\n"
     ]
    }
   ],
   "source": [
    "df.info()"
   ]
  },
  {
   "cell_type": "code",
   "execution_count": 38,
   "id": "5a6558ec-383c-4ab3-b0c9-8f2add3a578a",
   "metadata": {
    "tags": []
   },
   "outputs": [
    {
     "data": {
      "text/plain": [
       "id                                     0\n",
       "NAME                                 250\n",
       "host id                                0\n",
       "host_identity_verified               289\n",
       "host name                            406\n",
       "neighbourhood group                   29\n",
       "neighbourhood                         16\n",
       "lat                                    8\n",
       "long                                   8\n",
       "country                              532\n",
       "country code                         131\n",
       "instant_bookable                     105\n",
       "cancellation_policy                   76\n",
       "room type                              0\n",
       "Construction year                    214\n",
       "price                                247\n",
       "service fee                          273\n",
       "minimum nights                       409\n",
       "number of reviews                    183\n",
       "last review                        15893\n",
       "reviews per month                  15879\n",
       "review rate number                   326\n",
       "calculated host listings count       319\n",
       "availability 365                     448\n",
       "house_rules                        52131\n",
       "license                           102597\n",
       "dtype: int64"
      ]
     },
     "execution_count": 38,
     "metadata": {},
     "output_type": "execute_result"
    }
   ],
   "source": [
    "df.isnull().sum()"
   ]
  },
  {
   "cell_type": "code",
   "execution_count": 49,
   "id": "344d8232-b5e5-4807-8555-47884b015e8d",
   "metadata": {
    "tags": []
   },
   "outputs": [],
   "source": [
    "\n",
    "pd.set_option('display.max_columns', None)\n"
   ]
  },
  {
   "cell_type": "code",
   "execution_count": 50,
   "id": "5b5b1226-7b9b-4ada-ba2e-c0da2f0fd85f",
   "metadata": {
    "tags": []
   },
   "outputs": [
    {
     "data": {
      "text/html": [
       "<div>\n",
       "<style scoped>\n",
       "    .dataframe tbody tr th:only-of-type {\n",
       "        vertical-align: middle;\n",
       "    }\n",
       "\n",
       "    .dataframe tbody tr th {\n",
       "        vertical-align: top;\n",
       "    }\n",
       "\n",
       "    .dataframe thead th {\n",
       "        text-align: right;\n",
       "    }\n",
       "</style>\n",
       "<table border=\"1\" class=\"dataframe\">\n",
       "  <thead>\n",
       "    <tr style=\"text-align: right;\">\n",
       "      <th></th>\n",
       "      <th>id</th>\n",
       "      <th>NAME</th>\n",
       "      <th>host id</th>\n",
       "      <th>host_identity_verified</th>\n",
       "      <th>host name</th>\n",
       "      <th>neighbourhood group</th>\n",
       "      <th>neighbourhood</th>\n",
       "      <th>lat</th>\n",
       "      <th>long</th>\n",
       "      <th>country</th>\n",
       "      <th>country code</th>\n",
       "      <th>instant_bookable</th>\n",
       "      <th>cancellation_policy</th>\n",
       "      <th>room type</th>\n",
       "      <th>Construction year</th>\n",
       "      <th>price</th>\n",
       "      <th>service fee</th>\n",
       "      <th>minimum nights</th>\n",
       "      <th>number of reviews</th>\n",
       "      <th>last review</th>\n",
       "      <th>reviews per month</th>\n",
       "      <th>review rate number</th>\n",
       "      <th>calculated host listings count</th>\n",
       "      <th>availability 365</th>\n",
       "      <th>house_rules</th>\n",
       "      <th>license</th>\n",
       "    </tr>\n",
       "  </thead>\n",
       "  <tbody>\n",
       "    <tr>\n",
       "      <th>0</th>\n",
       "      <td>1001254</td>\n",
       "      <td>Clean &amp; quiet apt home by the park</td>\n",
       "      <td>80014485718</td>\n",
       "      <td>unconfirmed</td>\n",
       "      <td>Madaline</td>\n",
       "      <td>Brooklyn</td>\n",
       "      <td>Kensington</td>\n",
       "      <td>40.64749</td>\n",
       "      <td>-73.97237</td>\n",
       "      <td>United States</td>\n",
       "      <td>US</td>\n",
       "      <td>False</td>\n",
       "      <td>strict</td>\n",
       "      <td>Private room</td>\n",
       "      <td>2020.0</td>\n",
       "      <td>$966</td>\n",
       "      <td>$193</td>\n",
       "      <td>10.0</td>\n",
       "      <td>9.0</td>\n",
       "      <td>10/19/2021</td>\n",
       "      <td>0.21</td>\n",
       "      <td>4.0</td>\n",
       "      <td>6.0</td>\n",
       "      <td>286.0</td>\n",
       "      <td>Clean up and treat the home the way you'd like...</td>\n",
       "      <td>NaN</td>\n",
       "    </tr>\n",
       "    <tr>\n",
       "      <th>1</th>\n",
       "      <td>1002102</td>\n",
       "      <td>Skylit Midtown Castle</td>\n",
       "      <td>52335172823</td>\n",
       "      <td>verified</td>\n",
       "      <td>Jenna</td>\n",
       "      <td>Manhattan</td>\n",
       "      <td>Midtown</td>\n",
       "      <td>40.75362</td>\n",
       "      <td>-73.98377</td>\n",
       "      <td>United States</td>\n",
       "      <td>US</td>\n",
       "      <td>False</td>\n",
       "      <td>moderate</td>\n",
       "      <td>Entire home/apt</td>\n",
       "      <td>2007.0</td>\n",
       "      <td>$142</td>\n",
       "      <td>$28</td>\n",
       "      <td>30.0</td>\n",
       "      <td>45.0</td>\n",
       "      <td>5/21/2022</td>\n",
       "      <td>0.38</td>\n",
       "      <td>4.0</td>\n",
       "      <td>2.0</td>\n",
       "      <td>228.0</td>\n",
       "      <td>Pet friendly but please confirm with me if the...</td>\n",
       "      <td>NaN</td>\n",
       "    </tr>\n",
       "    <tr>\n",
       "      <th>2</th>\n",
       "      <td>1002403</td>\n",
       "      <td>THE VILLAGE OF HARLEM....NEW YORK !</td>\n",
       "      <td>78829239556</td>\n",
       "      <td>NaN</td>\n",
       "      <td>Elise</td>\n",
       "      <td>Manhattan</td>\n",
       "      <td>Harlem</td>\n",
       "      <td>40.80902</td>\n",
       "      <td>-73.94190</td>\n",
       "      <td>United States</td>\n",
       "      <td>US</td>\n",
       "      <td>True</td>\n",
       "      <td>flexible</td>\n",
       "      <td>Private room</td>\n",
       "      <td>2005.0</td>\n",
       "      <td>$620</td>\n",
       "      <td>$124</td>\n",
       "      <td>3.0</td>\n",
       "      <td>0.0</td>\n",
       "      <td>NaN</td>\n",
       "      <td>NaN</td>\n",
       "      <td>5.0</td>\n",
       "      <td>1.0</td>\n",
       "      <td>352.0</td>\n",
       "      <td>I encourage you to use my kitchen, cooking and...</td>\n",
       "      <td>NaN</td>\n",
       "    </tr>\n",
       "    <tr>\n",
       "      <th>3</th>\n",
       "      <td>1002755</td>\n",
       "      <td>NaN</td>\n",
       "      <td>85098326012</td>\n",
       "      <td>unconfirmed</td>\n",
       "      <td>Garry</td>\n",
       "      <td>Brooklyn</td>\n",
       "      <td>Clinton Hill</td>\n",
       "      <td>40.68514</td>\n",
       "      <td>-73.95976</td>\n",
       "      <td>United States</td>\n",
       "      <td>US</td>\n",
       "      <td>True</td>\n",
       "      <td>moderate</td>\n",
       "      <td>Entire home/apt</td>\n",
       "      <td>2005.0</td>\n",
       "      <td>$368</td>\n",
       "      <td>$74</td>\n",
       "      <td>30.0</td>\n",
       "      <td>270.0</td>\n",
       "      <td>7/5/2019</td>\n",
       "      <td>4.64</td>\n",
       "      <td>4.0</td>\n",
       "      <td>1.0</td>\n",
       "      <td>322.0</td>\n",
       "      <td>NaN</td>\n",
       "      <td>NaN</td>\n",
       "    </tr>\n",
       "    <tr>\n",
       "      <th>4</th>\n",
       "      <td>1003689</td>\n",
       "      <td>Entire Apt: Spacious Studio/Loft by central park</td>\n",
       "      <td>92037596077</td>\n",
       "      <td>verified</td>\n",
       "      <td>Lyndon</td>\n",
       "      <td>Manhattan</td>\n",
       "      <td>East Harlem</td>\n",
       "      <td>40.79851</td>\n",
       "      <td>-73.94399</td>\n",
       "      <td>United States</td>\n",
       "      <td>US</td>\n",
       "      <td>False</td>\n",
       "      <td>moderate</td>\n",
       "      <td>Entire home/apt</td>\n",
       "      <td>2009.0</td>\n",
       "      <td>$204</td>\n",
       "      <td>$41</td>\n",
       "      <td>10.0</td>\n",
       "      <td>9.0</td>\n",
       "      <td>11/19/2018</td>\n",
       "      <td>0.10</td>\n",
       "      <td>3.0</td>\n",
       "      <td>1.0</td>\n",
       "      <td>289.0</td>\n",
       "      <td>Please no smoking in the house, porch or on th...</td>\n",
       "      <td>NaN</td>\n",
       "    </tr>\n",
       "    <tr>\n",
       "      <th>5</th>\n",
       "      <td>1004098</td>\n",
       "      <td>Large Cozy 1 BR Apartment In Midtown East</td>\n",
       "      <td>45498551794</td>\n",
       "      <td>verified</td>\n",
       "      <td>Michelle</td>\n",
       "      <td>Manhattan</td>\n",
       "      <td>Murray Hill</td>\n",
       "      <td>40.74767</td>\n",
       "      <td>-73.97500</td>\n",
       "      <td>United States</td>\n",
       "      <td>US</td>\n",
       "      <td>True</td>\n",
       "      <td>flexible</td>\n",
       "      <td>Entire home/apt</td>\n",
       "      <td>2013.0</td>\n",
       "      <td>$577</td>\n",
       "      <td>$115</td>\n",
       "      <td>3.0</td>\n",
       "      <td>74.0</td>\n",
       "      <td>6/22/2019</td>\n",
       "      <td>0.59</td>\n",
       "      <td>3.0</td>\n",
       "      <td>1.0</td>\n",
       "      <td>374.0</td>\n",
       "      <td>No smoking, please, and no drugs.</td>\n",
       "      <td>NaN</td>\n",
       "    </tr>\n",
       "    <tr>\n",
       "      <th>6</th>\n",
       "      <td>1004650</td>\n",
       "      <td>BlissArtsSpace!</td>\n",
       "      <td>61300605564</td>\n",
       "      <td>NaN</td>\n",
       "      <td>Alberta</td>\n",
       "      <td>Brooklyn</td>\n",
       "      <td>Bedford-Stuyvesant</td>\n",
       "      <td>40.68688</td>\n",
       "      <td>-73.95596</td>\n",
       "      <td>United States</td>\n",
       "      <td>US</td>\n",
       "      <td>False</td>\n",
       "      <td>moderate</td>\n",
       "      <td>Private room</td>\n",
       "      <td>2015.0</td>\n",
       "      <td>$71</td>\n",
       "      <td>$14</td>\n",
       "      <td>45.0</td>\n",
       "      <td>49.0</td>\n",
       "      <td>10/5/2017</td>\n",
       "      <td>0.40</td>\n",
       "      <td>5.0</td>\n",
       "      <td>1.0</td>\n",
       "      <td>224.0</td>\n",
       "      <td>Please no shoes in the house so bring slippers...</td>\n",
       "      <td>NaN</td>\n",
       "    </tr>\n",
       "    <tr>\n",
       "      <th>7</th>\n",
       "      <td>1005202</td>\n",
       "      <td>BlissArtsSpace!</td>\n",
       "      <td>90821839709</td>\n",
       "      <td>unconfirmed</td>\n",
       "      <td>Emma</td>\n",
       "      <td>Brooklyn</td>\n",
       "      <td>Bedford-Stuyvesant</td>\n",
       "      <td>40.68688</td>\n",
       "      <td>-73.95596</td>\n",
       "      <td>United States</td>\n",
       "      <td>US</td>\n",
       "      <td>False</td>\n",
       "      <td>moderate</td>\n",
       "      <td>Private room</td>\n",
       "      <td>2009.0</td>\n",
       "      <td>$1,060</td>\n",
       "      <td>$212</td>\n",
       "      <td>45.0</td>\n",
       "      <td>49.0</td>\n",
       "      <td>10/5/2017</td>\n",
       "      <td>0.40</td>\n",
       "      <td>5.0</td>\n",
       "      <td>1.0</td>\n",
       "      <td>219.0</td>\n",
       "      <td>House Guidelines for our BnB We are delighted ...</td>\n",
       "      <td>NaN</td>\n",
       "    </tr>\n",
       "    <tr>\n",
       "      <th>8</th>\n",
       "      <td>1005754</td>\n",
       "      <td>Large Furnished Room Near B'way</td>\n",
       "      <td>79384379533</td>\n",
       "      <td>verified</td>\n",
       "      <td>Evelyn</td>\n",
       "      <td>Manhattan</td>\n",
       "      <td>Hell's Kitchen</td>\n",
       "      <td>40.76489</td>\n",
       "      <td>-73.98493</td>\n",
       "      <td>United States</td>\n",
       "      <td>US</td>\n",
       "      <td>True</td>\n",
       "      <td>strict</td>\n",
       "      <td>Private room</td>\n",
       "      <td>2005.0</td>\n",
       "      <td>$1,018</td>\n",
       "      <td>$204</td>\n",
       "      <td>2.0</td>\n",
       "      <td>430.0</td>\n",
       "      <td>6/24/2019</td>\n",
       "      <td>3.47</td>\n",
       "      <td>3.0</td>\n",
       "      <td>1.0</td>\n",
       "      <td>180.0</td>\n",
       "      <td>- Please clean up after yourself when using th...</td>\n",
       "      <td>NaN</td>\n",
       "    </tr>\n",
       "    <tr>\n",
       "      <th>9</th>\n",
       "      <td>1006307</td>\n",
       "      <td>Cozy Clean Guest Room - Family Apt</td>\n",
       "      <td>75527839483</td>\n",
       "      <td>unconfirmed</td>\n",
       "      <td>Carl</td>\n",
       "      <td>Manhattan</td>\n",
       "      <td>Upper West Side</td>\n",
       "      <td>40.80178</td>\n",
       "      <td>-73.96723</td>\n",
       "      <td>United States</td>\n",
       "      <td>US</td>\n",
       "      <td>False</td>\n",
       "      <td>strict</td>\n",
       "      <td>Private room</td>\n",
       "      <td>2015.0</td>\n",
       "      <td>$291</td>\n",
       "      <td>$58</td>\n",
       "      <td>2.0</td>\n",
       "      <td>118.0</td>\n",
       "      <td>7/21/2017</td>\n",
       "      <td>0.99</td>\n",
       "      <td>5.0</td>\n",
       "      <td>1.0</td>\n",
       "      <td>375.0</td>\n",
       "      <td>NO SMOKING OR PETS ANYWHERE ON THE PROPERTY 1....</td>\n",
       "      <td>NaN</td>\n",
       "    </tr>\n",
       "  </tbody>\n",
       "</table>\n",
       "</div>"
      ],
      "text/plain": [
       "        id                                              NAME      host id  \\\n",
       "0  1001254                Clean & quiet apt home by the park  80014485718   \n",
       "1  1002102                             Skylit Midtown Castle  52335172823   \n",
       "2  1002403               THE VILLAGE OF HARLEM....NEW YORK !  78829239556   \n",
       "3  1002755                                               NaN  85098326012   \n",
       "4  1003689  Entire Apt: Spacious Studio/Loft by central park  92037596077   \n",
       "5  1004098         Large Cozy 1 BR Apartment In Midtown East  45498551794   \n",
       "6  1004650                                   BlissArtsSpace!  61300605564   \n",
       "7  1005202                                   BlissArtsSpace!  90821839709   \n",
       "8  1005754                   Large Furnished Room Near B'way  79384379533   \n",
       "9  1006307                Cozy Clean Guest Room - Family Apt  75527839483   \n",
       "\n",
       "  host_identity_verified host name neighbourhood group       neighbourhood  \\\n",
       "0            unconfirmed  Madaline            Brooklyn          Kensington   \n",
       "1               verified     Jenna           Manhattan             Midtown   \n",
       "2                    NaN     Elise           Manhattan              Harlem   \n",
       "3            unconfirmed     Garry            Brooklyn        Clinton Hill   \n",
       "4               verified    Lyndon           Manhattan         East Harlem   \n",
       "5               verified  Michelle           Manhattan         Murray Hill   \n",
       "6                    NaN   Alberta            Brooklyn  Bedford-Stuyvesant   \n",
       "7            unconfirmed      Emma            Brooklyn  Bedford-Stuyvesant   \n",
       "8               verified    Evelyn           Manhattan      Hell's Kitchen   \n",
       "9            unconfirmed      Carl           Manhattan     Upper West Side   \n",
       "\n",
       "        lat      long        country country code instant_bookable  \\\n",
       "0  40.64749 -73.97237  United States           US            False   \n",
       "1  40.75362 -73.98377  United States           US            False   \n",
       "2  40.80902 -73.94190  United States           US             True   \n",
       "3  40.68514 -73.95976  United States           US             True   \n",
       "4  40.79851 -73.94399  United States           US            False   \n",
       "5  40.74767 -73.97500  United States           US             True   \n",
       "6  40.68688 -73.95596  United States           US            False   \n",
       "7  40.68688 -73.95596  United States           US            False   \n",
       "8  40.76489 -73.98493  United States           US             True   \n",
       "9  40.80178 -73.96723  United States           US            False   \n",
       "\n",
       "  cancellation_policy        room type  Construction year    price  \\\n",
       "0              strict     Private room             2020.0    $966    \n",
       "1            moderate  Entire home/apt             2007.0    $142    \n",
       "2            flexible     Private room             2005.0    $620    \n",
       "3            moderate  Entire home/apt             2005.0    $368    \n",
       "4            moderate  Entire home/apt             2009.0    $204    \n",
       "5            flexible  Entire home/apt             2013.0    $577    \n",
       "6            moderate     Private room             2015.0     $71    \n",
       "7            moderate     Private room             2009.0  $1,060    \n",
       "8              strict     Private room             2005.0  $1,018    \n",
       "9              strict     Private room             2015.0    $291    \n",
       "\n",
       "  service fee  minimum nights  number of reviews last review  \\\n",
       "0       $193             10.0                9.0  10/19/2021   \n",
       "1        $28             30.0               45.0   5/21/2022   \n",
       "2       $124              3.0                0.0         NaN   \n",
       "3        $74             30.0              270.0    7/5/2019   \n",
       "4        $41             10.0                9.0  11/19/2018   \n",
       "5       $115              3.0               74.0   6/22/2019   \n",
       "6        $14             45.0               49.0   10/5/2017   \n",
       "7       $212             45.0               49.0   10/5/2017   \n",
       "8       $204              2.0              430.0   6/24/2019   \n",
       "9        $58              2.0              118.0   7/21/2017   \n",
       "\n",
       "   reviews per month  review rate number  calculated host listings count  \\\n",
       "0               0.21                 4.0                             6.0   \n",
       "1               0.38                 4.0                             2.0   \n",
       "2                NaN                 5.0                             1.0   \n",
       "3               4.64                 4.0                             1.0   \n",
       "4               0.10                 3.0                             1.0   \n",
       "5               0.59                 3.0                             1.0   \n",
       "6               0.40                 5.0                             1.0   \n",
       "7               0.40                 5.0                             1.0   \n",
       "8               3.47                 3.0                             1.0   \n",
       "9               0.99                 5.0                             1.0   \n",
       "\n",
       "   availability 365                                        house_rules license  \n",
       "0             286.0  Clean up and treat the home the way you'd like...     NaN  \n",
       "1             228.0  Pet friendly but please confirm with me if the...     NaN  \n",
       "2             352.0  I encourage you to use my kitchen, cooking and...     NaN  \n",
       "3             322.0                                                NaN     NaN  \n",
       "4             289.0  Please no smoking in the house, porch or on th...     NaN  \n",
       "5             374.0                  No smoking, please, and no drugs.     NaN  \n",
       "6             224.0  Please no shoes in the house so bring slippers...     NaN  \n",
       "7             219.0  House Guidelines for our BnB We are delighted ...     NaN  \n",
       "8             180.0  - Please clean up after yourself when using th...     NaN  \n",
       "9             375.0  NO SMOKING OR PETS ANYWHERE ON THE PROPERTY 1....     NaN  "
      ]
     },
     "execution_count": 50,
     "metadata": {},
     "output_type": "execute_result"
    }
   ],
   "source": [
    "df.head(10)"
   ]
  },
  {
   "cell_type": "code",
   "execution_count": 51,
   "id": "8bb5dc69-0ad3-4fd8-a092-a596f9733d08",
   "metadata": {
    "tags": []
   },
   "outputs": [],
   "source": [
    "#Dropping License Column: \n",
    "\n",
    "df.drop(columns=['license'], inplace=True)\n"
   ]
  },
  {
   "cell_type": "code",
   "execution_count": 53,
   "id": "c35b24ac-08b2-4187-b4ba-27fa0889da49",
   "metadata": {
    "tags": []
   },
   "outputs": [],
   "source": [
    "#Dealing with null value:\n",
    "\n",
    "# Filing  text-based nulls\n",
    "df['NAME'] = df['NAME'].fillna('N/A')\n",
    "df['host_identity_verified'] = df['host_identity_verified'].fillna('unverified')\n",
    "df['neighbourhood group'] = df['neighbourhood group'].fillna('Unknown')\n",
    "df['house_rules'] = df['house_rules'].fillna('None')\n",
    "\n",
    "\n",
    "# Filling boolean or category-based\n",
    "#df['instant_bookable'] = df['instant_bookable'].fillna('False')\n",
    "df['cancellation_policy'] = df['cancellation_policy'].fillna('unknown')\n",
    "\n",
    "# Numeric fixes\n",
    "df['reviews per month'] = df['reviews per month'].fillna(0)\n",
    "df['number of reviews'] = df['number of reviews'].fillna(0)\n",
    "\n",
    "\n"
   ]
  },
  {
   "cell_type": "code",
   "execution_count": 55,
   "id": "47dcd8ba-5bd2-49b3-ba5d-82c264ef889b",
   "metadata": {
    "tags": []
   },
   "outputs": [],
   "source": [
    "df['host name'] = df['host name'].fillna('N/A')"
   ]
  },
  {
   "cell_type": "code",
   "execution_count": 56,
   "id": "d71ef388-ddd3-440a-9d7e-a54f01792a6c",
   "metadata": {
    "tags": []
   },
   "outputs": [],
   "source": [
    "df['neighbourhood'] = df['neighbourhood'].fillna('Unknown')"
   ]
  },
  {
   "cell_type": "code",
   "execution_count": 31,
   "id": "20fb20d7-29f7-4203-a2ab-01031f90fb8f",
   "metadata": {
    "tags": []
   },
   "outputs": [
    {
     "data": {
      "text/plain": [
       "id                                    0\n",
       "NAME                                  0\n",
       "host id                               0\n",
       "host_identity_verified                0\n",
       "host name                           406\n",
       "neighbourhood group                   0\n",
       "neighbourhood                        16\n",
       "lat                                   8\n",
       "long                                  8\n",
       "country                             532\n",
       "country code                        131\n",
       "instant_bookable                      0\n",
       "cancellation_policy                   0\n",
       "room type                             0\n",
       "Construction year                   214\n",
       "price                               247\n",
       "service fee                         273\n",
       "minimum nights                      409\n",
       "number of reviews                     0\n",
       "last review                       15893\n",
       "reviews per month                     0\n",
       "review rate number                  326\n",
       "calculated host listings count      319\n",
       "availability 365                    448\n",
       "house_rules                           0\n",
       "dtype: int64"
      ]
     },
     "execution_count": 31,
     "metadata": {},
     "output_type": "execute_result"
    }
   ],
   "source": [
    "df.isnull().sum()"
   ]
  },
  {
   "cell_type": "code",
   "execution_count": 57,
   "id": "037e2fd5-51a3-4291-bbbb-5deedea477f8",
   "metadata": {
    "tags": []
   },
   "outputs": [],
   "source": [
    "df['instant_bookable'] = df['instant_bookable'].fillna('False')"
   ]
  },
  {
   "cell_type": "code",
   "execution_count": 32,
   "id": "5daf7b8d-8916-4657-bf94-05af45c4b938",
   "metadata": {
    "tags": []
   },
   "outputs": [],
   "source": [
    "# For price/service fee/minimum nights\n",
    "df['price'] = pd.to_numeric(df['price'], errors='coerce')\n"
   ]
  },
  {
   "cell_type": "code",
   "execution_count": 33,
   "id": "b8d4ea21-ac40-4c5b-9b3b-e51f53655ae2",
   "metadata": {
    "tags": []
   },
   "outputs": [
    {
     "name": "stderr",
     "output_type": "stream",
     "text": [
      "/Users/saiswethalakkoju/anaconda3/lib/python3.11/site-packages/numpy/lib/_nanfunctions_impl.py:1215: RuntimeWarning: Mean of empty slice\n",
      "  return np.nanmean(a, axis, out=out, keepdims=keepdims)\n"
     ]
    }
   ],
   "source": [
    "df['price'] = df['price'].fillna(df['price'].median())"
   ]
  },
  {
   "cell_type": "code",
   "execution_count": 34,
   "id": "2759f981-8be5-4500-bf76-6fe286cf5864",
   "metadata": {
    "tags": []
   },
   "outputs": [
    {
     "data": {
      "text/plain": [
       "id                                     0\n",
       "NAME                                   0\n",
       "host id                                0\n",
       "host_identity_verified                 0\n",
       "host name                            406\n",
       "neighbourhood group                    0\n",
       "neighbourhood                         16\n",
       "lat                                    8\n",
       "long                                   8\n",
       "country                              532\n",
       "country code                         131\n",
       "instant_bookable                       0\n",
       "cancellation_policy                    0\n",
       "room type                              0\n",
       "Construction year                    214\n",
       "price                             102599\n",
       "service fee                          273\n",
       "minimum nights                       409\n",
       "number of reviews                      0\n",
       "last review                        15893\n",
       "reviews per month                      0\n",
       "review rate number                   326\n",
       "calculated host listings count       319\n",
       "availability 365                     448\n",
       "house_rules                            0\n",
       "dtype: int64"
      ]
     },
     "execution_count": 34,
     "metadata": {},
     "output_type": "execute_result"
    }
   ],
   "source": [
    "df.isnull().sum()"
   ]
  },
  {
   "cell_type": "code",
   "execution_count": 59,
   "id": "4b60c49c-3386-478d-af97-a2b208b182de",
   "metadata": {
    "tags": []
   },
   "outputs": [
    {
     "name": "stderr",
     "output_type": "stream",
     "text": [
      "/var/folders/9c/9gm285k54tz9ysvymk9gtd400000gn/T/ipykernel_69508/3329949727.py:2: FutureWarning: Downcasting behavior in `replace` is deprecated and will be removed in a future version. To retain the old behavior, explicitly call `result.infer_objects(copy=False)`. To opt-in to the future behavior, set `pd.set_option('future.no_silent_downcasting', True)`\n",
      "  df['instant_bookable'] = df['instant_bookable'].replace({'t': True, 'f': False, 'False': False, 'True': True})\n"
     ]
    }
   ],
   "source": [
    "# Convert 't'/'f' and any string 'False' to real booleans\n",
    "df['instant_bookable'] = df['instant_bookable'].replace({'t': True, 'f': False, 'False': False, 'True': True})\n",
    "df['instant_bookable'] = df['instant_bookable'].astype(bool)\n"
   ]
  },
  {
   "cell_type": "code",
   "execution_count": 60,
   "id": "0fa7afe6-558b-45f2-90cd-5f8b94a908f8",
   "metadata": {
    "tags": []
   },
   "outputs": [
    {
     "data": {
      "text/plain": [
       "instant_bookable\n",
       "False    51579\n",
       "True     51020\n",
       "Name: count, dtype: int64"
      ]
     },
     "execution_count": 60,
     "metadata": {},
     "output_type": "execute_result"
    }
   ],
   "source": [
    "df['instant_bookable'].value_counts()"
   ]
  },
  {
   "cell_type": "code",
   "execution_count": 61,
   "id": "92cd6980-49fe-4d14-b157-80c769149b58",
   "metadata": {
    "tags": []
   },
   "outputs": [
    {
     "data": {
      "text/plain": [
       "number of reviews\n",
       "0.0      15917\n",
       "1.0      10408\n",
       "2.0       7175\n",
       "3.0       5375\n",
       "4.0       4151\n",
       "         ...  \n",
       "567.0        1\n",
       "592.0        1\n",
       "797.0        1\n",
       "966.0        1\n",
       "300.0        1\n",
       "Name: count, Length: 476, dtype: int64"
      ]
     },
     "execution_count": 61,
     "metadata": {},
     "output_type": "execute_result"
    }
   ],
   "source": [
    "df['number of reviews'].value_counts()"
   ]
  },
  {
   "cell_type": "code",
   "execution_count": 62,
   "id": "0f324624-3334-441c-baf8-b47085d80947",
   "metadata": {
    "tags": []
   },
   "outputs": [
    {
     "data": {
      "text/plain": [
       "id                                    0\n",
       "NAME                                  0\n",
       "host id                               0\n",
       "host_identity_verified                0\n",
       "host name                             0\n",
       "neighbourhood group                   0\n",
       "neighbourhood                         0\n",
       "lat                                   8\n",
       "long                                  8\n",
       "country                             532\n",
       "country code                        131\n",
       "instant_bookable                      0\n",
       "cancellation_policy                   0\n",
       "room type                             0\n",
       "Construction year                   214\n",
       "price                               247\n",
       "service fee                         273\n",
       "minimum nights                      409\n",
       "number of reviews                     0\n",
       "last review                       15893\n",
       "reviews per month                     0\n",
       "review rate number                  326\n",
       "calculated host listings count      319\n",
       "availability 365                    448\n",
       "house_rules                           0\n",
       "dtype: int64"
      ]
     },
     "execution_count": 62,
     "metadata": {},
     "output_type": "execute_result"
    }
   ],
   "source": [
    "df.isnull().sum()"
   ]
  },
  {
   "cell_type": "code",
   "execution_count": 64,
   "id": "e71ded11-f9d2-4133-a116-3a151f3c0a67",
   "metadata": {
    "tags": []
   },
   "outputs": [],
   "source": [
    "df_ab = df[df['number of reviews'].notnull()]\n"
   ]
  },
  {
   "cell_type": "code",
   "execution_count": 66,
   "id": "c3e3d711-0e6e-40cd-9c20-110190e92049",
   "metadata": {
    "tags": []
   },
   "outputs": [],
   "source": [
    "group_a = df_ab[df_ab['instant_bookable'] == False]['number of reviews']\n",
    "group_b = df_ab[df_ab['instant_bookable'] == True]['number of reviews']\n"
   ]
  },
  {
   "cell_type": "code",
   "execution_count": 67,
   "id": "d56b881d-7bb5-454c-82fe-191633f13602",
   "metadata": {
    "tags": []
   },
   "outputs": [
    {
     "name": "stdout",
     "output_type": "stream",
     "text": [
      "Mean A (False): 27.3968\n",
      "Mean B (True): 27.4730\n",
      "Lift: 0.28%\n"
     ]
    }
   ],
   "source": [
    "mean_a = group_a.mean()\n",
    "mean_b = group_b.mean()\n",
    "\n",
    "lift = (mean_b - mean_a) / mean_a\n",
    "print(f\"Mean A (False): {mean_a:.4f}\")\n",
    "print(f\"Mean B (True): {mean_b:.4f}\")\n",
    "print(f\"Lift: {lift*100:.2f}%\")\n"
   ]
  },
  {
   "cell_type": "code",
   "execution_count": 68,
   "id": "603f2e35-5d09-4119-b830-7e7af51888dc",
   "metadata": {
    "tags": []
   },
   "outputs": [
    {
     "name": "stdout",
     "output_type": "stream",
     "text": [
      "T-statistic: -0.2468, P-value: 0.8051\n"
     ]
    }
   ],
   "source": [
    "from scipy.stats import ttest_ind\n",
    "\n",
    "t_stat, p_value = ttest_ind(group_a, group_b, equal_var=False)\n",
    "print(f\"T-statistic: {t_stat:.4f}, P-value: {p_value:.4f}\")\n"
   ]
  },
  {
   "cell_type": "code",
   "execution_count": 69,
   "id": "1b11c7b6-a122-46c4-a944-025522b9d286",
   "metadata": {
    "tags": []
   },
   "outputs": [],
   "source": [
    "df['host_identity_verified'] = df['host_identity_verified'].replace({'t': True, 'f': False, 'True': True, 'False': False})\n",
    "df['host_identity_verified'] = df['host_identity_verified'].astype(bool)\n"
   ]
  },
  {
   "cell_type": "code",
   "execution_count": 70,
   "id": "59fbb129-914d-4f49-9125-c9ab8077ef83",
   "metadata": {
    "tags": []
   },
   "outputs": [],
   "source": [
    "df = df[df['host_identity_verified'].notnull()]\n"
   ]
  },
  {
   "cell_type": "code",
   "execution_count": 72,
   "id": "ca6ef440-e83a-48e5-a68d-79966cff7362",
   "metadata": {
    "tags": []
   },
   "outputs": [],
   "source": [
    "df_ab2 = df[df['number of reviews'].notnull()]\n"
   ]
  },
  {
   "cell_type": "code",
   "execution_count": 74,
   "id": "f9d7e2ae-607a-4790-8eaa-64b8628e3546",
   "metadata": {
    "tags": []
   },
   "outputs": [],
   "source": [
    "group_a = df_ab2[df_ab2['host_identity_verified'] == False]['number of reviews']\n",
    "group_b = df_ab2[df_ab2['host_identity_verified'] == True]['number of reviews']\n"
   ]
  },
  {
   "cell_type": "code",
   "execution_count": 75,
   "id": "86ef3727-f2f4-4f47-9027-1970e0ee50bd",
   "metadata": {
    "tags": []
   },
   "outputs": [
    {
     "name": "stdout",
     "output_type": "stream",
     "text": [
      "Mean A (Unverified): nan\n",
      "Mean B (Verified): 27.4347\n",
      "Lift: nan%\n"
     ]
    }
   ],
   "source": [
    "mean_a = group_a.mean()\n",
    "mean_b = group_b.mean()\n",
    "lift = (mean_b - mean_a) / mean_a\n",
    "\n",
    "print(f\"Mean A (Unverified): {mean_a:.4f}\")\n",
    "print(f\"Mean B (Verified): {mean_b:.4f}\")\n",
    "print(f\"Lift: {lift*100:.2f}%\")\n"
   ]
  },
  {
   "cell_type": "code",
   "execution_count": 76,
   "id": "cde78135-fea6-4276-936b-56c36249dec7",
   "metadata": {
    "tags": []
   },
   "outputs": [
    {
     "data": {
      "text/plain": [
       "host_identity_verified\n",
       "True    102599\n",
       "Name: count, dtype: int64"
      ]
     },
     "execution_count": 76,
     "metadata": {},
     "output_type": "execute_result"
    }
   ],
   "source": [
    "df['host_identity_verified'].value_counts()"
   ]
  },
  {
   "cell_type": "code",
   "execution_count": 79,
   "id": "eacaa7bb-5b2a-49bf-8192-7788bc7c4864",
   "metadata": {
    "tags": []
   },
   "outputs": [
    {
     "name": "stdout",
     "output_type": "stream",
     "text": [
      "Mean A (Private room): 27.74\n",
      "Mean B (Entire home): 27.34\n",
      "Lift: -1.47%\n",
      "P-value: 0.1952\n"
     ]
    }
   ],
   "source": [
    "df_ab = df[df['number of reviews'].notnull()]\n",
    "df_ab = df_ab[df_ab['room type'].isin(['Entire home/apt', 'Private room'])]\n",
    "\n",
    "group_a = df_ab[df_ab['room type'] == 'Private room']['number of reviews']\n",
    "group_b = df_ab[df_ab['room type'] == 'Entire home/apt']['number of reviews']\n",
    "\n",
    "mean_a = group_a.mean()\n",
    "mean_b = group_b.mean()\n",
    "lift = (mean_b - mean_a) / mean_a * 100\n",
    "\n",
    "from scipy.stats import ttest_ind\n",
    "t_stat, p_value = ttest_ind(group_a, group_b, equal_var=False)\n",
    "\n",
    "print(f\"Mean A (Private room): {mean_a:.2f}\")\n",
    "print(f\"Mean B (Entire home): {mean_b:.2f}\")\n",
    "print(f\"Lift: {lift:.2f}%\")\n",
    "print(f\"P-value: {p_value:.4f}\")\n"
   ]
  },
  {
   "cell_type": "markdown",
   "id": "8a9f36a8-6048-4bc0-8f12-da0d636bc208",
   "metadata": {},
   "source": [
    "The difference is small (only 1.47%) and not statistically significant (p > 0.05).\n",
    "\n",
    "So, room type doesn’t seem to have a strong impact on review counts in this dataset — at least not between these two categories."
   ]
  },
  {
   "cell_type": "code",
   "execution_count": 81,
   "id": "078ca42a-3690-42fd-ad72-103592e4e969",
   "metadata": {
    "tags": []
   },
   "outputs": [
    {
     "name": "stdout",
     "output_type": "stream",
     "text": [
      "Mean A (Strict): 27.29\n",
      "Mean B (Flexible): 27.52\n",
      "Lift: 0.83%\n",
      "P-value: 0.5495\n"
     ]
    }
   ],
   "source": [
    "df_ab = df[df['number of reviews'].notnull()]\n",
    "df_ab = df_ab[df_ab['cancellation_policy'].isin(['flexible', 'strict'])]\n",
    "\n",
    "group_a = df_ab[df_ab['cancellation_policy'] == 'strict']['number of reviews']\n",
    "group_b = df_ab[df_ab['cancellation_policy'] == 'flexible']['number of reviews']\n",
    "\n",
    "mean_a = group_a.mean()\n",
    "mean_b = group_b.mean()\n",
    "lift = (mean_b - mean_a) / mean_a * 100\n",
    "\n",
    "from scipy.stats import ttest_ind\n",
    "t_stat, p_value = ttest_ind(group_a, group_b, equal_var=False)\n",
    "\n",
    "print(f\"Mean A (Strict): {mean_a:.2f}\")\n",
    "print(f\"Mean B (Flexible): {mean_b:.2f}\")\n",
    "print(f\"Lift: {lift:.2f}%\")\n",
    "print(f\"P-value: {p_value:.4f}\")\n"
   ]
  },
  {
   "cell_type": "markdown",
   "id": "1e113bb2-f53e-4b30-9bf1-012abfff19fa",
   "metadata": {},
   "source": [
    "The lift is very small: listings with flexible policies have just 0.83% more reviews on average.\n",
    "\n",
    "The p-value is 0.5495, meaning the difference is not statistically significant.\n",
    "\n",
    "So once again, no strong evidence that cancellation policy alone impacts review volume."
   ]
  },
  {
   "cell_type": "code",
   "execution_count": 82,
   "id": "4d0302de-9a8b-4c03-985c-6eb041a5bae8",
   "metadata": {
    "tags": []
   },
   "outputs": [],
   "source": [
    "# Remove dollar signs and commas, then convert to float\n",
    "df['price'] = df['price'].replace('[\\$,]', '', regex=True).astype(float)\n"
   ]
  },
  {
   "cell_type": "code",
   "execution_count": 83,
   "id": "356e5380-8e61-4e52-a172-d92d490d45ed",
   "metadata": {
    "tags": []
   },
   "outputs": [
    {
     "name": "stdout",
     "output_type": "stream",
     "text": [
      "Mean A (< $100): 25.75\n",
      "Mean B (>= $100): 27.51\n",
      "Lift: 6.85%\n",
      "P-value: 0.0204\n"
     ]
    }
   ],
   "source": [
    "# Filter valid rows\n",
    "df_ab = df[df['price'].notnull() & df['number of reviews'].notnull()]\n",
    "\n",
    "# Create A/B groups\n",
    "group_a = df_ab[df_ab['price'] < 100]['number of reviews']\n",
    "group_b = df_ab[df_ab['price'] >= 100]['number of reviews']\n",
    "\n",
    "# Calculate mean and lift\n",
    "mean_a = group_a.mean()\n",
    "mean_b = group_b.mean()\n",
    "lift = (mean_b - mean_a) / mean_a * 100\n",
    "\n",
    "# Run t-test\n",
    "from scipy.stats import ttest_ind\n",
    "t_stat, p_value = ttest_ind(group_a, group_b, equal_var=False)\n",
    "\n",
    "# Print results\n",
    "print(f\"Mean A (< $100): {mean_a:.2f}\")\n",
    "print(f\"Mean B (>= $100): {mean_b:.2f}\")\n",
    "print(f\"Lift: {lift:.2f}%\")\n",
    "print(f\"P-value: {p_value:.4f}\")\n"
   ]
  },
  {
   "cell_type": "markdown",
   "id": "ee4b2593-9373-46e8-a2fc-277f3ed166d6",
   "metadata": {},
   "source": [
    "Listings priced ≥ $100 receive 6.85% more reviews on average.\n",
    "\n",
    "The p-value is below 0.05, so this difference is statistically significant.\n",
    "\n",
    "This suggests that higher-priced listings may actually attract more guest activity, contrary to common assumptions that cheaper = more bookings."
   ]
  },
  {
   "cell_type": "code",
   "execution_count": 84,
   "id": "6a6e03b4-12a1-4b35-bd9c-a8b40ba391d4",
   "metadata": {
    "tags": []
   },
   "outputs": [],
   "source": [
    "df['service fee'] = df['service fee'].replace('[\\$,]', '', regex=True).astype(float)\n"
   ]
  },
  {
   "cell_type": "code",
   "execution_count": 85,
   "id": "5498f1bb-fadc-47bc-b24c-1d051059cc7d",
   "metadata": {
    "tags": []
   },
   "outputs": [
    {
     "name": "stdout",
     "output_type": "stream",
     "text": [
      "Median Service Fee: 125.00\n",
      "Mean A (< median): 27.40\n",
      "Mean B (>= median): 27.49\n",
      "Lift: 0.34%\n",
      "P-value: 0.7632\n"
     ]
    }
   ],
   "source": [
    "# Filter valid rows\n",
    "df_ab = df[df['service fee'].notnull() & df['number of reviews'].notnull()]\n",
    "\n",
    "# Find the median\n",
    "median_fee = df_ab['service fee'].median()\n",
    "\n",
    "# Create A and B groups\n",
    "group_a = df_ab[df_ab['service fee'] < median_fee]['number of reviews']\n",
    "group_b = df_ab[df_ab['service fee'] >= median_fee]['number of reviews']\n",
    "\n",
    "# Calculate mean and lift\n",
    "mean_a = group_a.mean()\n",
    "mean_b = group_b.mean()\n",
    "lift = (mean_b - mean_a) / mean_a * 100\n",
    "\n",
    "# Run t-test\n",
    "from scipy.stats import ttest_ind\n",
    "t_stat, p_value = ttest_ind(group_a, group_b, equal_var=False)\n",
    "\n",
    "# Print results\n",
    "print(f\"Median Service Fee: {median_fee:.2f}\")\n",
    "print(f\"Mean A (< median): {mean_a:.2f}\")\n",
    "print(f\"Mean B (>= median): {mean_b:.2f}\")\n",
    "print(f\"Lift: {lift:.2f}%\")\n",
    "print(f\"P-value: {p_value:.4f}\")\n"
   ]
  },
  {
   "cell_type": "markdown",
   "id": "63ae7015-15b7-4439-93a1-d6f7551421db",
   "metadata": {},
   "source": [
    "**Interpretation:**\n",
    "\n",
    "The difference in review count between lower and higher service fees is extremely small (+0.34%) and not statistically significant.\n",
    "\n",
    "In short: service fee amount doesn’t seem to affect guest review behavior.\n",
    "\n"
   ]
  },
  {
   "cell_type": "code",
   "execution_count": 86,
   "id": "ce17a7d5-1454-4732-8cd9-c6f76c9561de",
   "metadata": {
    "tags": []
   },
   "outputs": [
    {
     "name": "stdout",
     "output_type": "stream",
     "text": [
      "['Manhattan', 'Brooklyn']\n"
     ]
    }
   ],
   "source": [
    "top2 = df['neighbourhood group'].value_counts().nlargest(2).index.tolist()\n",
    "print(top2)\n"
   ]
  },
  {
   "cell_type": "code",
   "execution_count": 87,
   "id": "ac3d0792-cf8c-44ad-8503-06ce63a1c8ed",
   "metadata": {
    "tags": []
   },
   "outputs": [
    {
     "name": "stdout",
     "output_type": "stream",
     "text": [
      "Comparing: Manhattan (A) vs. Brooklyn (B)\n",
      "Mean A (Manhattan): 24.08\n",
      "Mean B (Brooklyn): 28.46\n",
      "Lift: 18.20%\n",
      "P-value: 0.0000\n"
     ]
    }
   ],
   "source": [
    "# Filter valid rows and restrict to top 2 neighbourhoods\n",
    "df_ab = df[df['neighbourhood group'].isin(top2) & df['number of reviews'].notnull()]\n",
    "\n",
    "# Create groups\n",
    "group_a = df_ab[df_ab['neighbourhood group'] == top2[0]]['number of reviews']\n",
    "group_b = df_ab[df_ab['neighbourhood group'] == top2[1]]['number of reviews']\n",
    "\n",
    "# Calculate means and lift\n",
    "mean_a = group_a.mean()\n",
    "mean_b = group_b.mean()\n",
    "lift = (mean_b - mean_a) / mean_a * 100\n",
    "\n",
    "# Run t-test\n",
    "from scipy.stats import ttest_ind\n",
    "t_stat, p_value = ttest_ind(group_a, group_b, equal_var=False)\n",
    "\n",
    "# Print results\n",
    "print(f\"Comparing: {top2[0]} (A) vs. {top2[1]} (B)\")\n",
    "print(f\"Mean A ({top2[0]}): {mean_a:.2f}\")\n",
    "print(f\"Mean B ({top2[1]}): {mean_b:.2f}\")\n",
    "print(f\"Lift: {lift:.2f}%\")\n",
    "print(f\"P-value: {p_value:.4f}\")\n"
   ]
  },
  {
   "cell_type": "markdown",
   "id": "52aa287b-d26e-410c-b071-5b94c9a870aa",
   "metadata": {},
   "source": [
    "**Interpretation:**\n",
    "Listings in Brooklyn receive 18% more reviews on average than those in Manhattan.\n",
    "\n",
    "The p-value is effectively zero, meaning this result is statistically very significant.\n",
    "\n",
    "This suggests that Brooklyn listings may be more popular, affordable, or receive more consistent guest engagement — definitely something Airbnb might want to dig into further."
   ]
  },
  {
   "cell_type": "code",
   "execution_count": null,
   "id": "288bc721-9aae-43f1-83a7-82a1dd098a4b",
   "metadata": {},
   "outputs": [],
   "source": []
  }
 ],
 "metadata": {
  "kernelspec": {
   "display_name": "Python 3 (ipykernel)",
   "language": "python",
   "name": "python3"
  },
  "language_info": {
   "codemirror_mode": {
    "name": "ipython",
    "version": 3
   },
   "file_extension": ".py",
   "mimetype": "text/x-python",
   "name": "python",
   "nbconvert_exporter": "python",
   "pygments_lexer": "ipython3",
   "version": "3.11.3"
  }
 },
 "nbformat": 4,
 "nbformat_minor": 5
}
